{
 "cells": [
  {
   "cell_type": "code",
   "execution_count": 2,
   "metadata": {},
   "outputs": [
    {
     "name": "stdout",
     "output_type": "stream",
     "text": [
      "5.4 27 km WNW of Moirāng, India 21\n",
      "3.21 3 km SSW of La Parguera, Puerto Rico 1\n",
      "4.8 70 km ENE of Lakatoro, Vanuatu None\n",
      "3.07 4 km SSW of La Parguera, Puerto Rico None\n",
      "2.68 7 km ESE of Naalehu, Hawaii None\n",
      "3.28 91 km NW of San Antonio, Puerto Rico None\n",
      "5.9 Easter Island region None\n",
      "2.7 67 km S of Shungnak, Alaska None\n",
      "4.6 111 km SSE of Port Graham, Alaska 6\n",
      "2.89 4 km S of Guánica, Puerto Rico None\n",
      "4.8 98 km SW of Pagar Alam, Indonesia None\n",
      "2.87 8 km N of Pa‘auilo, Hawaii None\n",
      "4.6 118 km S of Katabu, Indonesia None\n",
      "2.93 23 km SE of Emajagua, Puerto Rico 2\n",
      "3.3 36 km SSW of Trapper Creek, Alaska 1\n",
      "2.5 57 km S of Whites City, New Mexico None\n",
      "2.53 1 km SW of Ponderosa Pines, Montana None\n",
      "2.7 16 km SW of Stanley, Idaho 1\n",
      "2.7 16 km SW of Stanley, Idaho 1\n",
      "4.4 Fiji region None\n",
      "4.5 80 km W of San Antonio, Chile 2\n",
      "4.8 120 km SSW of Nikolski, Alaska None\n",
      "2.52 3 km SSE of Pāhala, Hawaii None\n",
      "4.3 42 km NW of Turangi, New Zealand None\n",
      "5 Southwest Indian Ridge None\n",
      "2.8 Puerto Rico region None\n",
      "2.5 17 km S of Guánica, Puerto Rico None\n",
      "3.73 30km NNE of Redway, CA 19\n",
      "4.3 27 km SSW of San Francisco Menéndez, El Salvador None\n",
      "3.2 19 km WSW of Karluk, Alaska None\n",
      "3.1 56 km SSW of Covenant Life, Alaska 1\n",
      "2.5 8 km WSW of Karluk, Alaska None\n",
      "5.2 112 km WNW of Port-Vila, Vanuatu 2\n",
      "3.5 71 km SSW of Sand Point, Alaska None\n",
      "2.5 65 km SSE of Kokhanok, Alaska None\n",
      "4.3 72 km SSE of Adak, Alaska None\n",
      "2.5 34 km NNE of Petersville, Alaska None\n"
     ]
    }
   ],
   "source": [
    "import urllib.request\n",
    "import json\n",
    "def func3():\n",
    "    urldata=\"http://earthquake.usgs.gov/earthquakes/feed/v1.0/summary/2.5_day.geojson\"\n",
    "    weburl2=urllib.request.urlopen(urldata)\n",
    "    Quakedata=weburl2.read()\n",
    "    theJSON=json.loads(Quakedata)\n",
    "    for i in theJSON   [\"features\"]:\n",
    "        print(i[\"properties\"][\"mag\"],i[\"properties\"][\"place\"],i[\"properties\"][\"felt\"])\n",
    "func3()\n"
   ]
  },
  {
   "cell_type": "code",
   "execution_count": null,
   "metadata": {},
   "outputs": [],
   "source": []
  }
 ],
 "metadata": {
  "kernelspec": {
   "display_name": "Python 3",
   "language": "python",
   "name": "python3"
  },
  "language_info": {
   "codemirror_mode": {
    "name": "ipython",
    "version": 3
   },
   "file_extension": ".py",
   "mimetype": "text/x-python",
   "name": "python",
   "nbconvert_exporter": "python",
   "pygments_lexer": "ipython3",
   "version": "3.8.3"
  }
 },
 "nbformat": 4,
 "nbformat_minor": 4
}
